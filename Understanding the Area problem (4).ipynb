{
  "metadata": {
    "kernelspec": {
      "name": "python",
      "display_name": "Python (Pyodide)",
      "language": "python"
    },
    "language_info": {
      "codemirror_mode": {
        "name": "python",
        "version": 3
      },
      "file_extension": ".py",
      "mimetype": "text/x-python",
      "name": "python",
      "nbconvert_exporter": "python",
      "pygments_lexer": "ipython3",
      "version": "3.8"
    }
  },
  "nbformat_minor": 4,
  "nbformat": 4,
  "cells": [
    {
      "cell_type": "markdown",
      "source": "# Understading the Area Problem\n\nIn the study of differential calculus, we become familiar with using tangents and solving velocity problems to introduce the concept of the derivative. However, to introduce the definite integral, we must shift our focus to area and distance problems. This notebook will concentrate entirely on the area problem, marking the beginning of a broader exploration of integral calculus. In particular, this section will delve into the elementary concepts that form the basic building blocks of integral calculus.\n\n## Understanding what area is, in a general sense\n\nGenerally, our understanding of area is clearly defined for shapes with straight sides, such as polygons, as we can deconstruct them into simpler shapes or polygons that are easier to work with. However, this clarity changes when dealing with a function that curves; we cannot perfectly split it into regions with straight sides.\n\nTo handle these irregular, curved functions, we need to establish a method that accommodates all possible scenarios that could arise with a function. This approach is similar to how we defined a method for differentiation: by defining the tangent, we approximated the slope of the tangent line using secant lines and then took the limit of these approximations. We will apply this concept of approximations and limits to establish a similar method for area. \n\n## Example 1: Use rectangles to estimate the area under the parabola: $$y = x^{2}\\tag{1.0}$$ from 0 to 1.\n\n### Solution:\n\nSince the question stipulates that our domain spans between 0 and 1, we can assume that the area under the curve, 𝑆, does not exceed 1. However, this estimation of the area is not sufficiently representative, especially when you examine the figure below illustrating area 𝑆. Clearly, we can improve our approximation by finding a way to partition the area under the curve using a method that is easily calculable. In the following cells, you will see different ways to partition this curve into various regions, specifically in the form of rectangles.",
      "metadata": {}
    },
    {
      "cell_type": "code",
      "source": "import numpy as np\nimport matplotlib.pyplot as plt\n\n# Function to calculate y = x^2 \n\ndef positive_quadratic(x):\n    return x**2\n\n# Define the range of x values\n\nx = np.linspace(0, 1, 1000)\ny = positive_quadratic(x)\n\n# Plotting the curve\n\nplt.plot(x, y, label='y = $x^2$', color='blue')\n\n# Filling in the area under the curve and label it as S\n\nplt.fill_between(x, y, color='lightgrey', alpha=0.3)\nplt.text(0.7, 0.2, '$S$', fontsize=15, color='black')\n\n# Adding labels and title\nplt.xlabel('x')\nplt.ylabel('y')\nplt.title('Visualising the Area under y = $x^2$')\nplt.legend()\n\n# Set y-axis limit to start from 0\nplt.ylim(0, max(y))\n\n# Adjust margins to reduce padding\nplt.margins(x=0, y=0)\n\n# Show the plot\nplt.show()\n",
      "metadata": {
        "trusted": true
      },
      "outputs": [],
      "execution_count": null
    },
    {
      "cell_type": "markdown",
      "source": "### Breaking down the problem\n\nSuppose we divide 𝑆 into 10 strips, $S_i$,where 𝑖 represents the index of each strip, ranging from 1 to 10. Each strip $S_i$ corresponds to a specific interval on the x-axis, and the height of each strip is determined by the value of the curve $y = {x^2}$ at the corresponding x-coordinate. By examining these strips, we can approximate the total area 𝑆 under the curve as the sum of the areas of these individual strips. This method of partitioning the area helps to visualize the concepts we mentioned earlier, aiding us in understanding integration as the sum of smaller, manageable sections.",
      "metadata": {
        "jp-MarkdownHeadingCollapsed": true
      }
    },
    {
      "cell_type": "code",
      "source": "import numpy as np\nimport matplotlib.pyplot as plt\n\n# Function to calculate y = x^2 \n\ndef positive_quadratic(x):\n    return x**2\n\n# Define the range of x values\n\nx = np.linspace(0, 1, 1000)\ny = positive_quadratic(x)\n\n# Number of partitions/Regions\n\nn_partitions = 10\nx_partitions = np.linspace(0, 1, n_partitions+1)\ny_partitions = positive_quadratic(x_partitions)\n\n# Plotting the curve\n\nplt.plot(x, y, label='y = $x^2$', color='blue')\n\n# Filling in the area under the curve and labelling the different regions \n\n\nplt.fill_between(x, y, color='lightgrey', alpha=0.3)\nplt.text(0.05, 0.015, '$S_1$', fontsize=12, color='black')\nplt.text(0.15, 0.015, '$S_2$', fontsize=12, color='black')\nplt.text(0.25, 0.025, '$S_3$', fontsize=12, color='black')\nplt.text(0.35, 0.05, '$S_4$', fontsize=12, color='black')\nplt.text(0.45, 0.1, '$S_5$', fontsize=12, color='black')\nplt.text(0.55, 0.13, '$S_6$', fontsize=12, color='black')\nplt.text(0.65, 0.17, '$S_7$', fontsize=12, color='black')\nplt.text(0.75, 0.2, '$S_8$', fontsize=12, color='black')\nplt.text(0.85, 0.25, '$S_9$', fontsize=12, color='black')\nplt.text(0.92, 0.3, '$S_{10}$', fontsize=12, color='black')\n# Adding vertical lines for partitions \nfor i in range(len(x_partitions)):\n    plt.plot([x_partitions[i], x_partitions[i]], [0, y_partitions[i]], color='black', linewidth=1)\n    \n# Adding labels and title\nplt.xlabel('x')\nplt.ylabel('y')\nplt.title('Visualising the Area under y = $x^2$')\nplt.legend()\n\n# Set y-axis limit to start from 0\nplt.ylim(0, max(y))\n\n# Adjust margins to reduce padding\nplt.margins(x=0, y=0)\n\n# Show the plot\nplt.show()\n",
      "metadata": {
        "trusted": true
      },
      "outputs": [],
      "execution_count": null
    },
    {
      "cell_type": "markdown",
      "source": "### Working out an estimate\n\nA simple shape that we can easily work with is a rectangle. By following the vertical lines shown in the previous figure, we can use rectangles to estimate the area. We approximate each strip by a rectangle that has the same base as the strip and whose height matches the left edge of the strip. In other words, the heights of these rectangles correspond to the values of the function $f(x) = {x^2}$ at the left end points of the subintervals $[0, \\frac{1}{10}]$, $[\\frac{1}{10}, \\frac{2}{10}]$, $[\\frac{2}{10}, \\frac{3}{10}]$, $[\\frac{3}{10}, \\frac{4}{10}]$, $[\\frac{4}{10}, \\frac{5}{10}]$, $[\\frac{5}{10}, \\frac{6}{10}]$, $[\\frac{6}{10}, \\frac{7}{10}]$, $[\\frac{7}{10}, \\frac{8}{10}]$, $[\\frac{8}{10}, \\frac{9}{10}]$, $[\\frac{9}{10}, 1]$. \n\nEach rectangle has a width of 0.1, and the heights of these rectangles correspond to the squared values. If we denote $L_{10}$ as the sum of the areas of these approximating rectangles, then we are dealing with what I term an \"underestimate.\" This scenario is represented using the following formula:            \n<center> $$L_{10} = \\sum_{i=0}^9 f(x_i) \\cdot \\text{width}\\tag{2.1}$$</center>\n\nWe can perform an analogous operation to generate an overestimate. To do this, we start similarly to the previous method, but in this case, the height of each rectangle is taken from the right edge of each vertical strip of ${S_i}$.  Using the same subintervals as before, we can create another formula that can used to essentially find the upper bound of our area approximation: \n\n<center>$$R_{10} = \\sum_{i=0}^9 f(x_{i+1}) \\cdot \\text{width}\\tag{2.2}$$</center>",
      "metadata": {}
    },
    {
      "cell_type": "code",
      "source": "import numpy as np\nimport matplotlib.pyplot as plt\n\n# Function to calculate y = x^2\n\ndef positive_quadratic(x):\n   return x**2\n\n# Define the range of x values\n\nx = np.linspace(0, 1, 1000)\ny = positive_quadratic(x)\n\n# Number of recentagles (the more, the better the approximation)\nn_rectangles = 10\nx_rect = np.linspace(0, 1, n_rectangles + 1)\ny_rect = positive_quadratic(x_rect)\nwidth = 1 / n_rectangles\n\n# Plotting the curve\n\nplt.plot(x, y, label='y = $x^2$', color='blue') \n\n# Visualising rectangles ( Riemann sum approximation)\nfor i in range(n_rectangles): \n   plt.bar(x_rect[i], y_rect[i], width=width, align= 'edge', edgecolor='black', color = 'skyblue', alpha = 0.6)\n\n# Filling the area under the curve from 0 to 1\nplt.fill_between(x, y, color='lightgrey', alpha = 0.3, label='Area under the curve')\n\n# Adding labels and title\nplt.xlabel('x')\nplt.ylabel('y')\nplt.title('Visualising the Area under y = $x^2$ (Underestimate)')\nplt.legend()\n\n# Show the plot\nplt.show()",
      "metadata": {
        "trusted": true
      },
      "outputs": [],
      "execution_count": null
    },
    {
      "cell_type": "code",
      "source": "import numpy as np\nimport matplotlib.pyplot as plt\n\n# Function to calculate y = x^2\n\ndef positive_quadratic(x):\n   return x**2\n\n# Define the range of x values\n\nx = np.linspace(0, 1, 1000)\ny = positive_quadratic(x)\n\n# Number of recentagles (the more, the better the approximation)\nn_rectangles = 10\nx_rect = np.linspace(1 / n_rectangles, 1, n_rectangles)  # Right endpoints of each interval)\ny_rect = positive_quadratic(x_rect)\nwidth = 1 / n_rectangles\n\n# Plotting the curve\n\nplt.plot(x, y, label='y = x^2', color='blue') \n\n# Visualising rectangles ( Riemann sum approximation)\nfor i in range(n_rectangles):\n    plt.bar(x_rect[i] - width, y_rect[i], width=width, align='edge', edgecolor='black', color='skyblue', alpha=0.6)\n\n# Filling the area under the curve from 0 to 1\nplt.fill_between(x, y, color='lightgrey', alpha = 0.3, label='Area under the curve')\n\n# Adding labels and title\nplt.xlabel('x')\nplt.ylabel('y')\nplt.title('Visualising the Area under y = x^2 (Overestimate)')\nplt.legend()\n\n# Show the plot\nplt.show()",
      "metadata": {
        "trusted": true
      },
      "outputs": [],
      "execution_count": null
    },
    {
      "cell_type": "markdown",
      "source": "### The answers generated\n\nComputing the answers generated for both $L_{10}$ and $R_{10}$, we get a possible range for our area, S. \n\n<center>$$L_{10} < A < R_{10}\\tag{3.0}$$</center>\n<center>$$L_{10} = \\sum_{i=0}^9 f(x_i) \\cdot \\text{width} < A < R_{10} = \\sum_{i=0}^9 f(x_{i+1}) \\cdot \\text{width}\\tag{3.1}$$</center>\n\nIn order to compute the following answers we used the code featured below to generate the answers\n\n<center>$$0.2850000000000001 < A < 0.38500000000000006 \\tag{3.2}$$</center>\n\nThe more rectangles we use the more precise our approximation turns out to be. I am sure for those who have explored limits regarding tangents when dealing with derivatives, can begin to understand how we may start to formulate a more defined way at approaching the Area problem.",
      "metadata": {}
    },
    {
      "cell_type": "code",
      "source": "# Define the function\ndef f(x):\n    return x**2\n\n# Number of subintervals \nn = 10\n\n# Width of each intervals\nwidth = 1/n\n\n# Left endpoints\nx_valuesL = [i * width for i in range(n)]\n\n# Rigth endpoints \nx_valuesR = [i * width for i in range(n+1)]\n\n# Sum of the areas of the rectangles\n\nL_10 = sum(f(x) * width for x in x_valuesL)\nR_10 = sum(f(x) * width for x in x_valuesR)\n\nprint(L_10,\"< A <\" , R_10)",
      "metadata": {
        "trusted": true
      },
      "outputs": [],
      "execution_count": null
    }
  ]
}