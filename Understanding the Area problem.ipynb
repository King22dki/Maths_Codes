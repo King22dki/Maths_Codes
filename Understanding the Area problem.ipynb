{
  "metadata": {
    "kernelspec": {
      "name": "python",
      "display_name": "Python (Pyodide)",
      "language": "python"
    },
    "language_info": {
      "codemirror_mode": {
        "name": "python",
        "version": 3
      },
      "file_extension": ".py",
      "mimetype": "text/x-python",
      "name": "python",
      "nbconvert_exporter": "python",
      "pygments_lexer": "ipython3",
      "version": "3.8"
    }
  },
  "nbformat_minor": 4,
  "nbformat": 4,
  "cells": [
    {
      "cell_type": "markdown",
      "source": "# Understading the Area Problem\n\nIn differential calculus, where we are familiar with using tangent and handling velocity problems to introduce the derivative. Now in order to introduce the definte integral, we will need to explore the area and distance problems. This notebook shall focus entirely on the area problem. Marking the start of a wider exploration of integral calculus. This section in particular shall take a look into the elementary concepts that make up the basic building blocks of integral calculus.\n\n## Understanding what area is, in a general sense\n\nGenerally our understanding of area is quite clearly defined for polygons with straight sides, as we can deconstruct various polygons into simpler polygons or polygons that are easier to work with. This is not the same if we are dealing with a function of curve, we can not perfectly split it up into various regions with straight sides. \n\nIn order to deal with these irregular functions that are curved, we will need to define a means that catches all the different scenarios that could occur with a function. This is a similar to how we defined a means for differeination, as in defining tangent, we approximated the slope of the tangent line to the slope of secant lines and then we took limits of these approximations. We shall use this idea of appromiations and limits to establish a similar method for are. \n\n## Example 1: Use rectangles to estimate the area under the parabola: $$y = x^{2}$$ from 0 to 1.\n\n",
      "metadata": {}
    },
    {
      "cell_type": "code",
      "source": "import numpy as np\nimport matplotlib.pyplot as plt\n\n# Function to calculate y = x^2\n\ndef positive_quadratic(x):\n   return x**2\n\n# Define the range of x values\n\nx = np.linspace(0, 1, 100)\ny = positive_quadratic(x)\n\n# Number of recentagles (the more, the better the approximation)\nn_rectangles = 10\nx_rect = np.linspace(0, 1, n_rectangles + 1)\ny_rect = positive_quadratic(x_rect)\nwidth = 1 / n_rectangles\n\n# Plotting the curve\n\nplt.plot(x, y, label='y = x^2', color='blue') \n\n# Visualising rectangles ( Riemann sum approximation)\nfor i in range(n_rectangles): \n   plt.bar(x_rect[i], y_rect[i], width=width, align= 'edge', edgecolor='black', color = 'skyblue', alpha = 0.6)\n\n# Filling the area under the curve from 0 to 1\nplt.fill_between(x, y, color='lightgrey', alpha = 0.3, label='Area under the curve')\n\n# Adding labels and title\nplt.xlabel('x')\nplt.ylabel('y')\nplt.title('Visualising the Area under y = x^2 (Underestimate)')\nplt.legend()\n\n# Show the plot\nplt.show()",
      "metadata": {
        "trusted": true
      },
      "outputs": [],
      "execution_count": null
    },
    {
      "cell_type": "markdown",
      "source": "## An underestimate\n\nWhat",
      "metadata": {}
    },
    {
      "cell_type": "code",
      "source": "import numpy as np\nimport matplotlib.pyplot as plt\n\n# Function to calculate y = x^2\n\ndef positive_quadratic(x):\n   return x**2\n\n# Define the range of x values\n\nx = np.linspace(0, 1, 100)\ny = positive_quadratic(x)\n\n# Number of recentagles (the more, the better the approximation)\nn_rectangles = 10\nx_rect = np.linspace(0, 1, n_rectangles)\ny_rect = positive_quadratic(x_rect)\nwidth = 1 / n_rectangles\n\n# Plotting the curve\n\nplt.plot(x, y, label='y = x^2', color='blue') \n\n# Visualising rectangles ( Riemann sum approximation)\nfor i in range(n_rectangles): \n   plt.bar(x_rect[i], y_rect[i], width=width, align= 'edge', edgecolor='black', color = 'skyblue', alpha = 0.6)\n\n# Filling the area under the curve from 0 to 1\nplt.fill_between(x, y, color='lightgrey', alpha = 0.3, label='Area under the curve')\n\n# Adding labels and title\nplt.xlabel('x')\nplt.ylabel('y')\nplt.title('Visualising the Area under y = x^2 (Underestimate)')\nplt.legend()\n\n# Show the plot\nplt.show()",
      "metadata": {
        "trusted": true
      },
      "outputs": [],
      "execution_count": null
    },
    {
      "cell_type": "code",
      "source": "",
      "metadata": {
        "trusted": true
      },
      "outputs": [],
      "execution_count": null
    }
  ]
}